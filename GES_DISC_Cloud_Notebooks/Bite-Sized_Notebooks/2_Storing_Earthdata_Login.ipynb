{
 "cells": [
  {
   "cell_type": "markdown",
   "id": "informative-sucking",
   "metadata": {},
   "source": [
    "# Creating and Storing Earthdata Login Credentials\n",
    "### Author: Chris Battisto\n",
    "### Date Authored: 2-4-22\n",
    "\n",
    "### Timing\n",
    "\n",
    "Exercise: 5 minutes\n",
    "\n",
    "### Overview\n",
    "\n",
    "This notebook demonstrates how to generate and store your Earthdata Login credentials in a <code>.netrc</code> file.\n",
    "\n",
    "### Prerequisites\n",
    "\n",
    "This notebook was written using Python 3.8, and requires a valid Earthdata username and password.\n"
   ]
  },
  {
   "cell_type": "markdown",
   "id": "broken-composite",
   "metadata": {},
   "source": [
    "### Import Libraries"
   ]
  },
  {
   "cell_type": "code",
   "execution_count": 1,
   "id": "durable-disaster",
   "metadata": {},
   "outputs": [],
   "source": [
    "from netrc import netrc\n",
    "from subprocess import Popen\n",
    "from platform import system\n",
    "from getpass import getpass\n",
    "import os\n",
    "import requests"
   ]
  },
  {
   "cell_type": "markdown",
   "id": "mediterranean-nicaragua",
   "metadata": {},
   "source": [
    "### Generate the netrc file with your Earthdata credentials\n",
    "\n",
    "Alternatively, you can upload a previously generated netrc file to the root directory of your system\n",
    "If you believe you have entered an incorrect username or password, you must manually remove the previously generated netrc by before running the below cell again to re-generate a new file.\n",
    "\n",
    "The following cell will check if a netrc file exists, and create one for a UNIX environment.\n",
    "\n",
    "If you are operating in a Windows environment, the code in the following Openscapes tutorial will automatically check if the operating system is Windows or UNIX: https://nasa-openscapes.github.io/earthdata-cloud-cookbook/get-started/earthdata-login.html#python-for-windows-or-macos"
   ]
  },
  {
   "cell_type": "code",
   "execution_count": 2,
   "id": "rotary-twelve",
   "metadata": {},
   "outputs": [],
   "source": [
    "urs = 'urs.earthdata.nasa.gov'    # Earthdata URL endpoint for authentication\n",
    "prompts = ['Enter NASA Earthdata Login Username: ',\n",
    "           'Enter NASA Earthdata Login Password: ']\n",
    "\n",
    "netrc_name = \".netrc\"\n",
    "\n",
    "# Determine if netrc file exists, and if so, if it includes NASA Earthdata Login Credentials\n",
    "try:\n",
    "    netrcDir = os.path.expanduser(f\"~/{netrc_name}\")\n",
    "    netrc(netrcDir).authenticators(urs)[0]\n",
    "\n",
    "# Below, create a netrc file and prompt user for NASA Earthdata Login Username and Password\n",
    "except FileNotFoundError:\n",
    "    homeDir = os.path.expanduser(\"~\")\n",
    "    Popen('touch {0}{2} | echo machine {1} >> {0}{2}'.format(homeDir + os.sep, urs, netrc_name), shell=True)\n",
    "    Popen('echo login {} >> {}{}'.format(getpass(prompt=prompts[0]), homeDir + os.sep, netrc_name), shell=True)\n",
    "    Popen('echo \\'password {} \\'>> {}{}'.format(getpass(prompt=prompts[1]), homeDir + os.sep, netrc_name), shell=True)\n",
    "    # Set restrictive permissions\n",
    "    Popen('chmod 0600 {0}{1}'.format(homeDir + os.sep, netrc_name), shell=True)\n"
   ]
  },
  {
   "cell_type": "code",
   "execution_count": 3,
   "id": "a38f117a",
   "metadata": {},
   "outputs": [
    {
     "name": "stdout",
     "output_type": "stream",
     "text": [
      "total 84\n",
      "drwxr-xr-x 14 jovyan jovyan 6144 Apr  1 20:15 .\n",
      "drwxr-xr-x  1 root   root     20 Oct  4 16:21 ..\n",
      "-rw-------  1 jovyan jovyan 5733 Mar 30 01:34 .bash_history\n",
      "drwxr-xr-x  5 jovyan jovyan 6144 Mar 25 19:31 .cache\n",
      "drwxrwsr-x  2 jovyan jovyan 6144 Mar 25 18:03 .conda\n",
      "drwxr-xr-x  5 jovyan jovyan 6144 Mar 18 20:13 .config\n",
      "-rw-r--r--  1 jovyan jovyan  230 Apr  1 18:10 .dodsrc\n",
      "-rw-r--r--  1 jovyan jovyan   68 Mar 18 19:10 .gitconfig\n",
      "drwxr-xr-x  2 jovyan jovyan 6144 Mar 18 19:37 .ipynb_checkpoints\n",
      "drwxr-xr-x  3 jovyan jovyan 6144 Mar 18 18:38 .ipython\n",
      "drwxr-xr-x  3 jovyan jovyan 6144 Mar 24 19:28 .jupyter\n",
      "drwxr-xr-x  3 jovyan jovyan 6144 Mar 18 17:52 .local\n",
      "-rw-------  1 jovyan jovyan   72 Apr  1 20:15 .netrc\n",
      "drwx------  2 jovyan jovyan 6144 Mar 18 20:08 .ssh\n",
      "-rw-r--r--  1 jovyan jovyan    0 Apr  1 18:05 .urs_cookies\n",
      "drwxr-xr-x  4 jovyan jovyan 6144 Mar 24 19:33 ArabianSea\n",
      "drwxr-xr-x  5 jovyan jovyan 6144 Apr  1 17:58 gesdisc-cloud-tutorials\n",
      "-rw-r--r--  1 jovyan jovyan 5368 Mar 25 17:59 install-from-source.sh\n",
      "drwxr-xr-x  3 jovyan jovyan 6144 Mar 30 00:26 nasa-proposal-2022\n",
      "drwxr-xr-x 20 jovyan jovyan 6144 Apr  1 18:28 shared\n"
     ]
    }
   ],
   "source": [
    "! ls -al ~/"
   ]
  },
  {
   "cell_type": "markdown",
   "id": "0980de9e",
   "metadata": {},
   "source": [
    "### Generate your .urs_cookies and .dodsrc files\n",
    "\n",
    "First, create the .dodsrc and .urs_cookies files, to be stored in your root directory:"
   ]
  },
  {
   "cell_type": "code",
   "execution_count": 4,
   "id": "05c9880a",
   "metadata": {},
   "outputs": [],
   "source": [
    "! touch ~/.dodsrc"
   ]
  },
  {
   "cell_type": "code",
   "execution_count": 5,
   "id": "09e83a8c",
   "metadata": {},
   "outputs": [],
   "source": [
    "! touch ~/.urs_cookies"
   ]
  },
  {
   "cell_type": "markdown",
   "id": "6458756b",
   "metadata": {},
   "source": [
    "Then, enter the following code into the .netrc file. You must enter your full root directory path, and not <code>~/</code> which you can check by running <code>pwd</code> in your root directory."
   ]
  },
  {
   "cell_type": "code",
   "execution_count": null,
   "id": "67e2c608",
   "metadata": {},
   "outputs": [],
   "source": [
    "! echo \"HTTP.NETRC=/home/jovyan/.netrc\" >> ~/.dodsrc"
   ]
  },
  {
   "cell_type": "code",
   "execution_count": 11,
   "id": "0040e462",
   "metadata": {},
   "outputs": [],
   "source": [
    "! echo \"HTTP.COOKIEJAR=/home/jovyan/.urs_cookies\" >> ~/.dodsrc"
   ]
  },
  {
   "cell_type": "code",
   "execution_count": 12,
   "id": "231ca1eb-8ac1-4a69-a9af-ec0900fa42aa",
   "metadata": {},
   "outputs": [
    {
     "name": "stdout",
     "output_type": "stream",
     "text": [
      "ArabianSea\t\t install-from-source.sh  shared\n",
      "gesdisc-cloud-tutorials  nasa-proposal-2022\n"
     ]
    }
   ],
   "source": [
    "! ls ~"
   ]
  },
  {
   "cell_type": "code",
   "execution_count": null,
   "id": "05452a4e-b78b-4b0b-9ac5-5336d3708a35",
   "metadata": {},
   "outputs": [],
   "source": []
  }
 ],
 "metadata": {
  "kernelspec": {
   "display_name": "Python 3 (ipykernel)",
   "language": "python",
   "name": "python3"
  },
  "language_info": {
   "codemirror_mode": {
    "name": "ipython",
    "version": 3
   },
   "file_extension": ".py",
   "mimetype": "text/x-python",
   "name": "python",
   "nbconvert_exporter": "python",
   "pygments_lexer": "ipython3",
   "version": "3.9.10"
  }
 },
 "nbformat": 4,
 "nbformat_minor": 5
}
